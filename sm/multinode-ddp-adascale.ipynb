{
 "cells": [
  {
   "cell_type": "code",
   "execution_count": 1,
   "id": "cc8ac92c",
   "metadata": {},
   "outputs": [],
   "source": [
    "import json\n",
    "import os\n",
    "import uuid\n",
    "\n",
    "import sagemaker\n",
    "from sagemaker.pytorch import PyTorch\n",
    "from sagemaker import get_execution_role"
   ]
  },
  {
   "cell_type": "code",
   "execution_count": 2,
   "id": "b4f13758",
   "metadata": {},
   "outputs": [
    {
     "name": "stdout",
     "output_type": "stream",
     "text": [
      "cifar-10-batches-py/\n",
      "cifar-10-batches-py/data_batch_4\n",
      "cifar-10-batches-py/readme.html\n",
      "cifar-10-batches-py/test_batch\n",
      "cifar-10-batches-py/data_batch_3\n",
      "cifar-10-batches-py/batches.meta\n",
      "cifar-10-batches-py/data_batch_2\n",
      "cifar-10-batches-py/data_batch_5\n",
      "cifar-10-batches-py/data_batch_1\n"
     ]
    }
   ],
   "source": [
    "!  mkdir -p data && cd data && wget -c --quiet https://www.cs.toronto.edu/~kriz/cifar-10-python.tar.gz && tar -xvzf cifar-10-python.tar.gz"
   ]
  },
  {
   "cell_type": "code",
   "execution_count": null,
   "id": "473b3972",
   "metadata": {},
   "outputs": [],
   "source": [
    "! mkdir -p saved_models"
   ]
  },
  {
   "cell_type": "markdown",
   "id": "f1729081",
   "metadata": {},
   "source": [
    "## Run locally multiGPU training"
   ]
  },
  {
   "cell_type": "code",
   "execution_count": 3,
   "id": "1529288f",
   "metadata": {},
   "outputs": [
    {
     "name": "stdout",
     "output_type": "stream",
     "text": [
      "/home/ec2-user/anaconda3/envs/JupyterSystemEnv/bin/python: Error while finding module specification for 'torch.distributed.launch' (ModuleNotFoundError: No module named 'torch')\n"
     ]
    }
   ],
   "source": [
    "!python -m torch.distributed.launch --nproc_per_node=8 --nnodes=1 --node_rank=0 \\\n",
    "        /home/ec2-user/SageMaker/pytorch_resnet_cifar10_mirror/trainer_adascale.py  --num_epochs 200 \\\n",
    "        --batch_size 256 "
   ]
  },
  {
   "cell_type": "code",
   "execution_count": null,
   "id": "06ae5ad0",
   "metadata": {},
   "outputs": [],
   "source": [
    "# Run Sagemaker ddp training"
   ]
  },
  {
   "cell_type": "code",
   "execution_count": null,
   "id": "8c4deedb",
   "metadata": {},
   "outputs": [],
   "source": [
    "! pwd"
   ]
  },
  {
   "cell_type": "code",
   "execution_count": null,
   "id": "f784fa80",
   "metadata": {},
   "outputs": [],
   "source": [
    "! ls /home/ec2-user/SageMaker/pytorch_resnet_cifar10_mirror/sm\n"
   ]
  },
  {
   "cell_type": "code",
   "execution_count": null,
   "id": "2100f3c4",
   "metadata": {},
   "outputs": [],
   "source": [
    "! cd /home/ec2-user/SageMaker/pytorch_resnet_cifar10_mirror/sm &&  python ddp-launcher.py --gpus 8 \\\n",
    "--data_dir /home/ec2-user/SageMaker/data/ \\\n",
    "--model_dir /home/ec2-user/SageMaker/ \\\n",
    "--num_epochs 100\n",
    "\n",
    "\n"
   ]
  },
  {
   "cell_type": "markdown",
   "id": "b5210a6c",
   "metadata": {},
   "source": [
    "## Multinode multi GPU"
   ]
  },
  {
   "cell_type": "code",
   "execution_count": null,
   "id": "ef84c0e8",
   "metadata": {},
   "outputs": [],
   "source": [
    "config = {\n",
    "    'batch_size': 256,\n",
    "    'num_epochs' : 50}"
   ]
  },
  {
   "cell_type": "code",
   "execution_count": null,
   "id": "9a7534ee",
   "metadata": {},
   "outputs": [],
   "source": [
    "bucket = 'mansmane-us-west-2'\n"
   ]
  },
  {
   "cell_type": "code",
   "execution_count": null,
   "id": "a9557a09",
   "metadata": {},
   "outputs": [],
   "source": [
    "# Training time of this job \n",
    "token = str(uuid.uuid4())[:10]  # we create a unique token to avoid checkpoint collisions in S3\n",
    "\n",
    "job = PyTorch(\n",
    "    entry_point='ddp-launcher.py',\n",
    "    source_dir='/home/ec2-user/SageMaker/pytorch_resnet_cifar10_mirror/sm',\n",
    "    role=get_execution_role(),\n",
    "    framework_version='1.8.1',\n",
    "    instance_count=1,\n",
    "    instance_type='ml.p3.16xlarge',\n",
    "    base_job_name='resnet-multi-GPU-g5',\n",
    "    py_version='py36',\n",
    "    hyperparameters=config,\n",
    "    checkpoint_s3_uri='s3://{}/{}/checkpoints'.format(bucket, token),  # S3 destination of /opt/ml/checkpoints files\n",
    "    output_path='s3://{}/{}'.format(bucket, token),\n",
    "    code_location='s3://{}/{}/code'.format(bucket, token), # source_dir code will be staged in S3 there\n",
    "    environment={\"SMDEBUG_LOG_LEVEL\":\"off\"},  # reduce verbosity of Debugger\n",
    "    debugger_hook_config=False,  # deactivate debugger to avoid warnings in model artifact\n",
    "    disable_profiler=True,  # keep running resources to a minimum to avoid permission errors\n",
    "    metric_definitions=[\n",
    "        {\"Name\": \"Train_loss\", \"Regex\": \"Training_loss: ([0-9.]+).*$\"},\n",
    "        {\"Name\": \"Learning_rate\", \"Regex\": \"learning rate: ([0-9.]+).*$\"},        \n",
    "        {\"Name\": \"Val_loss\", \"Regex\": \"Val_loss: ([0-9.]+).*$\"},        \n",
    "        {\"Name\": \"Throughput\", \"Regex\": \"Throughput: ([0-9.]+).*$\"},\n",
    "        {\"Name\": \"Val_pixel_acc\", \"Regex\": \"Val_pixel_acc: ([0-9.]+).*$\"}\n",
    "    ],\n",
    "    tags=[{'Key': 'Project', 'Value': 'A2D2_segmentation'}])  # tag the job for experiment tracking"
   ]
  },
  {
   "cell_type": "code",
   "execution_count": null,
   "id": "19893a85",
   "metadata": {},
   "outputs": [],
   "source": [
    "train_path = 's3://mansmane-us-west-2/cifar10/'"
   ]
  },
  {
   "cell_type": "code",
   "execution_count": null,
   "id": "99747f1f",
   "metadata": {},
   "outputs": [],
   "source": [
    "job.fit({'dataset': train_path}, wait=False)"
   ]
  },
  {
   "cell_type": "code",
   "execution_count": null,
   "id": "c7984308",
   "metadata": {},
   "outputs": [],
   "source": []
  },
  {
   "cell_type": "code",
   "execution_count": null,
   "id": "6e0c4c9b",
   "metadata": {},
   "outputs": [],
   "source": [
    "token = str(uuid.uuid4())[:10]  # we create a unique token to avoid checkpoint collisions in S3\n",
    "instance_count = 2\n",
    "\n",
    "job = PyTorch(\n",
    "    entry_point='ddp-launcher.py',\n",
    "    source_dir='/home/ec2-user/SageMaker/pytorch_resnet_cifar10_mirror/sm',\n",
    "    role=get_execution_role(),\n",
    "    framework_version='1.8.1',\n",
    "    instance_count=instance_count,\n",
    "    instance_type='ml.p3.16xlarge',\n",
    "    base_job_name='resnet-multi-GPU-g5-instance-' + str(instance_count),\n",
    "    py_version='py36',\n",
    "    hyperparameters=config,\n",
    "    checkpoint_s3_uri='s3://{}/{}/checkpoints'.format(bucket, token),  # S3 destination of /opt/ml/checkpoints files\n",
    "    output_path='s3://{}/{}'.format(bucket, token),\n",
    "    code_location='s3://{}/{}/code'.format(bucket, token), # source_dir code will be staged in S3 there\n",
    "    environment={\"SMDEBUG_LOG_LEVEL\":\"off\"},  # reduce verbosity of Debugger\n",
    "    debugger_hook_config=False,  # deactivate debugger to avoid warnings in model artifact\n",
    "    disable_profiler=True,  # keep running resources to a minimum to avoid permission errors\n",
    "    metric_definitions=[\n",
    "        {\"Name\": \"Train_loss\", \"Regex\": \"Training_loss: ([0-9.]+).*$\"},\n",
    "        {\"Name\": \"Learning_rate\", \"Regex\": \"learning rate: ([0-9.]+).*$\"},        \n",
    "        {\"Name\": \"Val_loss\", \"Regex\": \"Val_loss: ([0-9.]+).*$\"},        \n",
    "        {\"Name\": \"Throughput\", \"Regex\": \"Throughput: ([0-9.]+).*$\"},\n",
    "        {\"Name\": \"Val_pixel_acc\", \"Regex\": \"Val_pixel_acc: ([0-9.]+).*$\"}\n",
    "    ],\n",
    "    tags=[{'Key': 'Project', 'Value': 'A2D2_segmentation'}])  # tag the job for experiment tracking\n",
    "\n",
    "train_path = 's3://mansmane-us-west-2/cifar10/'\n",
    "job.fit({'dataset': train_path}, wait=False)"
   ]
  },
  {
   "cell_type": "code",
   "execution_count": null,
   "id": "b4d42c07",
   "metadata": {},
   "outputs": [],
   "source": [
    "! pip install fairscale"
   ]
  },
  {
   "cell_type": "code",
   "execution_count": null,
   "id": "aed46a61",
   "metadata": {},
   "outputs": [],
   "source": []
  }
 ],
 "metadata": {
  "kernelspec": {
   "display_name": "conda_amazonei_pytorch_latest_p36",
   "language": "python",
   "name": "conda_amazonei_pytorch_latest_p36"
  },
  "language_info": {
   "codemirror_mode": {
    "name": "ipython",
    "version": 3
   },
   "file_extension": ".py",
   "mimetype": "text/x-python",
   "name": "python",
   "nbconvert_exporter": "python",
   "pygments_lexer": "ipython3",
   "version": "3.6.13"
  }
 },
 "nbformat": 4,
 "nbformat_minor": 5
}
