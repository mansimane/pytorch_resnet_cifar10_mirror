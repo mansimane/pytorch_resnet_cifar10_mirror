{
 "cells": [
  {
   "cell_type": "code",
   "execution_count": null,
   "id": "02ac3d0f",
   "metadata": {},
   "outputs": [],
   "source": [
    "import json\n",
    "import os\n",
    "import uuid\n",
    "\n",
    "import sagemaker\n",
    "from sagemaker.pytorch import PyTorch\n",
    "from sagemaker import get_execution_role"
   ]
  },
  {
   "cell_type": "code",
   "execution_count": null,
   "id": "4b9edadf",
   "metadata": {},
   "outputs": [],
   "source": [
    "!  mkdir -p data && cd data && wget -c --quiet https://www.cs.toronto.edu/~kriz/cifar-10-python.tar.gz && tar -xvzf cifar-10-python.tar.gz"
   ]
  },
  {
   "cell_type": "code",
   "execution_count": null,
   "id": "12251850",
   "metadata": {},
   "outputs": [],
   "source": [
    "! mkdir -p saved_models"
   ]
  },
  {
   "cell_type": "code",
   "execution_count": null,
   "id": "0508e958",
   "metadata": {},
   "outputs": [],
   "source": [
    "! pip install fairscale"
   ]
  },
  {
   "cell_type": "markdown",
   "id": "39628766",
   "metadata": {},
   "source": [
    "## Run locally multiGPU training"
   ]
  },
  {
   "cell_type": "code",
   "execution_count": 5,
   "id": "de0d63e8",
   "metadata": {},
   "outputs": [
    {
     "name": "stdout",
     "output_type": "stream",
     "text": [
      "running install\n",
      "running bdist_egg\n",
      "running egg_info\n",
      "writing src/autoscaler.egg-info/PKG-INFO\n",
      "writing dependency_links to src/autoscaler.egg-info/dependency_links.txt\n",
      "writing top-level names to src/autoscaler.egg-info/top_level.txt\n",
      "reading manifest file 'src/autoscaler.egg-info/SOURCES.txt'\n",
      "writing manifest file 'src/autoscaler.egg-info/SOURCES.txt'\n",
      "installing library code to build/bdist.linux-x86_64/egg\n",
      "running install_lib\n",
      "running build_py\n",
      "creating build/bdist.linux-x86_64/egg\n",
      "creating build/bdist.linux-x86_64/egg/automl\n",
      "creating build/bdist.linux-x86_64/egg/automl/optim\n",
      "copying build/lib/automl/optim/__init__.py -> build/bdist.linux-x86_64/egg/automl/optim\n",
      "copying build/lib/automl/optim/adamw.py -> build/bdist.linux-x86_64/egg/automl/optim\n",
      "copying build/lib/automl/optim/optimizer.py -> build/bdist.linux-x86_64/egg/automl/optim\n",
      "copying build/lib/automl/optim/_functional.py -> build/bdist.linux-x86_64/egg/automl/optim\n",
      "copying build/lib/automl/__init__.py -> build/bdist.linux-x86_64/egg/automl\n",
      "copying build/lib/automl/config.py -> build/bdist.linux-x86_64/egg/automl\n",
      "copying build/lib/automl/autoscaler.py -> build/bdist.linux-x86_64/egg/automl\n",
      "copying build/lib/automl/path_utils.py -> build/bdist.linux-x86_64/egg/automl\n",
      "byte-compiling build/bdist.linux-x86_64/egg/automl/optim/__init__.py to __init__.cpython-36.pyc\n",
      "byte-compiling build/bdist.linux-x86_64/egg/automl/optim/adamw.py to adamw.cpython-36.pyc\n",
      "byte-compiling build/bdist.linux-x86_64/egg/automl/optim/optimizer.py to optimizer.cpython-36.pyc\n",
      "byte-compiling build/bdist.linux-x86_64/egg/automl/optim/_functional.py to _functional.cpython-36.pyc\n",
      "byte-compiling build/bdist.linux-x86_64/egg/automl/__init__.py to __init__.cpython-36.pyc\n",
      "byte-compiling build/bdist.linux-x86_64/egg/automl/config.py to config.cpython-36.pyc\n",
      "byte-compiling build/bdist.linux-x86_64/egg/automl/autoscaler.py to autoscaler.cpython-36.pyc\n",
      "byte-compiling build/bdist.linux-x86_64/egg/automl/path_utils.py to path_utils.cpython-36.pyc\n",
      "creating build/bdist.linux-x86_64/egg/EGG-INFO\n",
      "copying src/autoscaler.egg-info/PKG-INFO -> build/bdist.linux-x86_64/egg/EGG-INFO\n",
      "copying src/autoscaler.egg-info/SOURCES.txt -> build/bdist.linux-x86_64/egg/EGG-INFO\n",
      "copying src/autoscaler.egg-info/dependency_links.txt -> build/bdist.linux-x86_64/egg/EGG-INFO\n",
      "copying src/autoscaler.egg-info/top_level.txt -> build/bdist.linux-x86_64/egg/EGG-INFO\n",
      "zip_safe flag not set; analyzing archive contents...\n",
      "creating 'dist/autoscaler-0.1.3-py3.6.egg' and adding 'build/bdist.linux-x86_64/egg' to it\n",
      "removing 'build/bdist.linux-x86_64/egg' (and everything under it)\n",
      "Processing autoscaler-0.1.3-py3.6.egg\n",
      "Removing /home/ec2-user/anaconda3/envs/pytorch_latest_p36/lib/python3.6/site-packages/autoscaler-0.1.3-py3.6.egg\n",
      "Copying autoscaler-0.1.3-py3.6.egg to /home/ec2-user/anaconda3/envs/pytorch_latest_p36/lib/python3.6/site-packages\n",
      "autoscaler 0.1.3 is already the active version in easy-install.pth\n",
      "\n",
      "Installed /home/ec2-user/anaconda3/envs/pytorch_latest_p36/lib/python3.6/site-packages/autoscaler-0.1.3-py3.6.egg\n",
      "Processing dependencies for autoscaler==0.1.3\n",
      "Finished processing dependencies for autoscaler==0.1.3\n"
     ]
    }
   ],
   "source": [
    "! cd /home/ec2-user/SageMaker/autoscaler-external/autoscaler/pytorch && python setup.py install\n",
    "#  Install conda as some fp16 hooks are not supported \n",
    "! conda install pytorch==1.9.0 torchvision==0.10.0 torchaudio==0.9.0 cudatoolkit=10.2 -c pytorch"
   ]
  },
  {
   "cell_type": "code",
   "execution_count": 17,
   "id": "4b6cb4cb",
   "metadata": {},
   "outputs": [
    {
     "name": "stdout",
     "output_type": "stream",
     "text": [
      "Collecting tensorboard\n",
      "  Downloading tensorboard-2.8.0-py3-none-any.whl (5.8 MB)\n",
      "     |████████████████████████████████| 5.8 MB 6.4 MB/s            \n",
      "\u001b[?25hRequirement already satisfied: werkzeug>=0.11.15 in /home/ec2-user/anaconda3/envs/pytorch_latest_p36/lib/python3.6/site-packages (from tensorboard) (2.0.2)\n",
      "Collecting tensorboard-plugin-wit>=1.6.0\n",
      "  Downloading tensorboard_plugin_wit-1.8.1-py3-none-any.whl (781 kB)\n",
      "     |████████████████████████████████| 781 kB 61.7 MB/s            \n",
      "\u001b[?25hRequirement already satisfied: requests<3,>=2.21.0 in /home/ec2-user/anaconda3/envs/pytorch_latest_p36/lib/python3.6/site-packages (from tensorboard) (2.27.1)\n",
      "Collecting google-auth-oauthlib<0.5,>=0.4.1\n",
      "  Downloading google_auth_oauthlib-0.4.6-py2.py3-none-any.whl (18 kB)\n",
      "Requirement already satisfied: setuptools>=41.0.0 in /home/ec2-user/anaconda3/envs/pytorch_latest_p36/lib/python3.6/site-packages (from tensorboard) (49.6.0.post20210108)\n",
      "Collecting markdown>=2.6.8\n",
      "  Downloading Markdown-3.3.6-py3-none-any.whl (97 kB)\n",
      "     |████████████████████████████████| 97 kB 12.1 MB/s            \n",
      "\u001b[?25hCollecting absl-py>=0.4\n",
      "  Downloading absl_py-1.0.0-py3-none-any.whl (126 kB)\n",
      "     |████████████████████████████████| 126 kB 89.1 MB/s            \n",
      "\u001b[?25hRequirement already satisfied: protobuf>=3.6.0 in /home/ec2-user/anaconda3/envs/pytorch_latest_p36/lib/python3.6/site-packages (from tensorboard) (3.19.1)\n",
      "Collecting grpcio>=1.24.3\n",
      "  Downloading grpcio-1.43.0-cp36-cp36m-manylinux_2_17_x86_64.manylinux2014_x86_64.whl (4.1 MB)\n",
      "     |████████████████████████████████| 4.1 MB 60.2 MB/s            \n",
      "\u001b[?25hCollecting tensorboard-data-server<0.7.0,>=0.6.0\n",
      "  Downloading tensorboard_data_server-0.6.1-py3-none-manylinux2010_x86_64.whl (4.9 MB)\n",
      "     |████████████████████████████████| 4.9 MB 51.9 MB/s            \n",
      "\u001b[?25hRequirement already satisfied: numpy>=1.12.0 in /home/ec2-user/anaconda3/envs/pytorch_latest_p36/lib/python3.6/site-packages (from tensorboard) (1.19.2)\n",
      "Collecting google-auth<3,>=1.6.3\n",
      "  Downloading google_auth-2.6.0-py2.py3-none-any.whl (156 kB)\n",
      "     |████████████████████████████████| 156 kB 79.9 MB/s            \n",
      "\u001b[?25hRequirement already satisfied: wheel>=0.26 in /home/ec2-user/anaconda3/envs/pytorch_latest_p36/lib/python3.6/site-packages (from tensorboard) (0.36.2)\n",
      "Requirement already satisfied: six in /home/ec2-user/anaconda3/envs/pytorch_latest_p36/lib/python3.6/site-packages (from absl-py>=0.4->tensorboard) (1.15.0)\n",
      "Requirement already satisfied: rsa<5,>=3.1.4 in /home/ec2-user/anaconda3/envs/pytorch_latest_p36/lib/python3.6/site-packages (from google-auth<3,>=1.6.3->tensorboard) (4.7.2)\n",
      "Collecting pyasn1-modules>=0.2.1\n",
      "  Downloading pyasn1_modules-0.2.8-py2.py3-none-any.whl (155 kB)\n",
      "     |████████████████████████████████| 155 kB 84.6 MB/s            \n",
      "\u001b[?25hCollecting cachetools<6.0,>=2.0.0\n",
      "  Downloading cachetools-4.2.4-py3-none-any.whl (10 kB)\n",
      "Collecting requests-oauthlib>=0.7.0\n",
      "  Downloading requests_oauthlib-1.3.1-py2.py3-none-any.whl (23 kB)\n",
      "Collecting importlib-metadata>=4.4\n",
      "  Downloading importlib_metadata-4.8.3-py3-none-any.whl (17 kB)\n",
      "Requirement already satisfied: urllib3<1.27,>=1.21.1 in /home/ec2-user/anaconda3/envs/pytorch_latest_p36/lib/python3.6/site-packages (from requests<3,>=2.21.0->tensorboard) (1.26.8)\n",
      "Requirement already satisfied: charset-normalizer~=2.0.0 in /home/ec2-user/anaconda3/envs/pytorch_latest_p36/lib/python3.6/site-packages (from requests<3,>=2.21.0->tensorboard) (2.0.11)\n",
      "Requirement already satisfied: certifi>=2017.4.17 in /home/ec2-user/anaconda3/envs/pytorch_latest_p36/lib/python3.6/site-packages (from requests<3,>=2.21.0->tensorboard) (2021.5.30)\n",
      "Requirement already satisfied: idna<4,>=2.5 in /home/ec2-user/anaconda3/envs/pytorch_latest_p36/lib/python3.6/site-packages (from requests<3,>=2.21.0->tensorboard) (3.1)\n",
      "Requirement already satisfied: dataclasses in /home/ec2-user/anaconda3/envs/pytorch_latest_p36/lib/python3.6/site-packages (from werkzeug>=0.11.15->tensorboard) (0.8)\n",
      "Requirement already satisfied: typing-extensions>=3.6.4 in /home/ec2-user/anaconda3/envs/pytorch_latest_p36/lib/python3.6/site-packages (from importlib-metadata>=4.4->markdown>=2.6.8->tensorboard) (4.0.1)\n",
      "Requirement already satisfied: zipp>=0.5 in /home/ec2-user/anaconda3/envs/pytorch_latest_p36/lib/python3.6/site-packages (from importlib-metadata>=4.4->markdown>=2.6.8->tensorboard) (3.4.0)\n",
      "Requirement already satisfied: pyasn1<0.5.0,>=0.4.6 in /home/ec2-user/anaconda3/envs/pytorch_latest_p36/lib/python3.6/site-packages (from pyasn1-modules>=0.2.1->google-auth<3,>=1.6.3->tensorboard) (0.4.8)\n",
      "Collecting oauthlib>=3.0.0\n",
      "  Downloading oauthlib-3.2.0-py3-none-any.whl (151 kB)\n",
      "     |████████████████████████████████| 151 kB 83.5 MB/s            \n",
      "\u001b[?25hInstalling collected packages: pyasn1-modules, oauthlib, cachetools, requests-oauthlib, importlib-metadata, google-auth, tensorboard-plugin-wit, tensorboard-data-server, markdown, grpcio, google-auth-oauthlib, absl-py, tensorboard\n",
      "  Attempting uninstall: importlib-metadata\n",
      "    Found existing installation: importlib-metadata 3.7.0\n",
      "    Uninstalling importlib-metadata-3.7.0:\n",
      "      Successfully uninstalled importlib-metadata-3.7.0\n",
      "\u001b[31mERROR: pip's dependency resolver does not currently take into account all the packages that are installed. This behaviour is the source of the following dependency conflicts.\n",
      "docker-compose 1.29.2 requires websocket-client<1,>=0.32.0, but you have websocket-client 1.2.3 which is incompatible.\u001b[0m\n",
      "Successfully installed absl-py-1.0.0 cachetools-4.2.4 google-auth-2.6.0 google-auth-oauthlib-0.4.6 grpcio-1.43.0 importlib-metadata-4.8.3 markdown-3.3.6 oauthlib-3.2.0 pyasn1-modules-0.2.8 requests-oauthlib-1.3.1 tensorboard-2.8.0 tensorboard-data-server-0.6.1 tensorboard-plugin-wit-1.8.1\n"
     ]
    }
   ],
   "source": [
    "! pip install tensorboard"
   ]
  },
  {
   "cell_type": "code",
   "execution_count": 30,
   "id": "058ab81a",
   "metadata": {},
   "outputs": [],
   "source": [
    "! python -m torch.distributed.launch --nproc_per_node=8 --nnodes=1 --node_rank=0 \\\n",
    "        /home/ec2-user/SageMaker/pytorch_resnet_cifar10_mirror/sm/trainer_adascale.py  --num_epochs 200 \\\n",
    "        --batch_size 256 \\\n",
    "        --use_adascale \\\n",
    "        --autoscaler_cfg autoscaler.yaml &> log\n"
   ]
  },
  {
   "cell_type": "code",
   "execution_count": 33,
   "id": "d7b4c0b0",
   "metadata": {},
   "outputs": [
    {
     "name": "stdout",
     "output_type": "stream",
     "text": [
      "Known TensorBoard instances:\n",
      "  - port 6006: logdir logs (started 0:01:32 ago; pid 17049)\n",
      "Selecting TensorBoard with logdir logs (started 0:01:32 ago; port 6006, pid 17049).\n"
     ]
    },
    {
     "data": {
      "text/html": [
       "\n",
       "      <iframe id=\"tensorboard-frame-7eb98fbb821bc761\" width=\"100%\" height=\"1000\" frameborder=\"0\">\n",
       "      </iframe>\n",
       "      <script>\n",
       "        (function() {\n",
       "          const frame = document.getElementById(\"tensorboard-frame-7eb98fbb821bc761\");\n",
       "          const url = new URL(\"/\", window.location);\n",
       "          const port = 6006;\n",
       "          if (port) {\n",
       "            url.port = port;\n",
       "          }\n",
       "          frame.src = url;\n",
       "        })();\n",
       "      </script>\n",
       "    "
      ],
      "text/plain": [
       "<IPython.core.display.HTML object>"
      ]
     },
     "metadata": {},
     "output_type": "display_data"
    }
   ],
   "source": [
    "from tensorboard import notebook\n",
    "notebook.list() # View open TensorBoard instances\n",
    "notebook.display(port=6006, height=1000)\n"
   ]
  },
  {
   "cell_type": "code",
   "execution_count": 31,
   "id": "5e082552",
   "metadata": {},
   "outputs": [
    {
     "name": "stdout",
     "output_type": "stream",
     "text": [
      "/home/ec2-user/SageMaker/pytorch_resnet_cifar10_mirror/sm\n"
     ]
    }
   ],
   "source": [
    "! pwd"
   ]
  },
  {
   "cell_type": "code",
   "execution_count": null,
   "id": "8f98091a",
   "metadata": {},
   "outputs": [],
   "source": [
    "! ls /home/ec2-user/SageMaker/pytorch_resnet_cifar10_mirror/sm"
   ]
  },
  {
   "cell_type": "code",
   "execution_count": 23,
   "id": "60aa508d",
   "metadata": {},
   "outputs": [
    {
     "name": "stdout",
     "output_type": "stream",
     "text": [
      "### Data directory:  ['cifar-10-batches-py', 'cifar-10-python.tar.gz']\n",
      "The module torch.distributed.launch is deprecated and going to be removed in future.Migrate to torch.distributed.run\n",
      "*****************************************\n",
      "Setting OMP_NUM_THREADS environment variable for each process to be 1 in default, to avoid your system being overloaded, please further tune the variable for optimal performance in your application as needed. \n",
      "*****************************************\n",
      "WARNING:torch.distributed.run:--use_env is deprecated and will be removed in future releases.\n",
      " Please read local_rank from `os.environ('LOCAL_RANK')` instead.\n",
      "INFO:torch.distributed.launcher.api:Starting elastic_operator with launch configs:\n",
      "  entrypoint       : cifar.py\n",
      "  min_nodes        : 1\n",
      "  max_nodes        : 1\n",
      "  nproc_per_node   : 8\n",
      "  run_id           : none\n",
      "  rdzv_backend     : static\n",
      "  rdzv_endpoint    : 127.0.0.1:7777\n",
      "  rdzv_configs     : {'rank': 0, 'timeout': 900}\n",
      "  max_restarts     : 3\n",
      "  monitor_interval : 5\n",
      "  log_dir          : None\n",
      "  metrics_cfg      : {}\n",
      "\n",
      "INFO:torch.distributed.elastic.agent.server.local_elastic_agent:log directory set to: /tmp/torchelastic_vwvb17pn/none_qtjccaff\n",
      "INFO:torch.distributed.elastic.agent.server.api:[default] starting workers for entrypoint: python\n",
      "INFO:torch.distributed.elastic.agent.server.api:[default] Rendezvous'ing worker group\n",
      "/home/ec2-user/anaconda3/envs/pytorch_latest_p36/lib/python3.6/site-packages/torch/distributed/elastic/utils/store.py:53: FutureWarning: This is an experimental API and will be changed in future.\n",
      "  \"This is an experimental API and will be changed in future.\", FutureWarning\n",
      "INFO:torch.distributed.elastic.agent.server.api:[default] Rendezvous complete for workers. Result:\n",
      "  restart_count=0\n",
      "  master_addr=127.0.0.1\n",
      "  master_port=7777\n",
      "  group_rank=0\n",
      "  group_world_size=1\n",
      "  local_ranks=[0, 1, 2, 3, 4, 5, 6, 7]\n",
      "  role_ranks=[0, 1, 2, 3, 4, 5, 6, 7]\n",
      "  global_ranks=[0, 1, 2, 3, 4, 5, 6, 7]\n",
      "  role_world_sizes=[8, 8, 8, 8, 8, 8, 8, 8]\n",
      "  global_world_sizes=[8, 8, 8, 8, 8, 8, 8, 8]\n",
      "\n",
      "INFO:torch.distributed.elastic.agent.server.api:[default] Starting worker group\n",
      "INFO:torch.distributed.elastic.multiprocessing:Setting worker0 reply file to: /tmp/torchelastic_vwvb17pn/none_qtjccaff/attempt_0/0/error.json\n",
      "INFO:torch.distributed.elastic.multiprocessing:Setting worker1 reply file to: /tmp/torchelastic_vwvb17pn/none_qtjccaff/attempt_0/1/error.json\n",
      "INFO:torch.distributed.elastic.multiprocessing:Setting worker2 reply file to: /tmp/torchelastic_vwvb17pn/none_qtjccaff/attempt_0/2/error.json\n",
      "INFO:torch.distributed.elastic.multiprocessing:Setting worker3 reply file to: /tmp/torchelastic_vwvb17pn/none_qtjccaff/attempt_0/3/error.json\n",
      "INFO:torch.distributed.elastic.multiprocessing:Setting worker4 reply file to: /tmp/torchelastic_vwvb17pn/none_qtjccaff/attempt_0/4/error.json\n",
      "INFO:torch.distributed.elastic.multiprocessing:Setting worker5 reply file to: /tmp/torchelastic_vwvb17pn/none_qtjccaff/attempt_0/5/error.json\n",
      "INFO:torch.distributed.elastic.multiprocessing:Setting worker6 reply file to: /tmp/torchelastic_vwvb17pn/none_qtjccaff/attempt_0/6/error.json\n",
      "INFO:torch.distributed.elastic.multiprocessing:Setting worker7 reply file to: /tmp/torchelastic_vwvb17pn/none_qtjccaff/attempt_0/7/error.json\n",
      "^C\n",
      "Traceback (most recent call last):\n",
      "  File \"ddp-launcher.py\", line 119, in <module>\n",
      "    '--data_dir', args.data_dir \n",
      "  File \"/home/ec2-user/anaconda3/envs/pytorch_latest_p36/lib/python3.6/subprocess.py\", line 289, in call\n",
      "    return p.wait(timeout=timeout)\n",
      "  File \"/home/ec2-user/anaconda3/envs/pytorch_latest_p36/lib/python3.6/subprocess.py\", line 1477, in wait\n",
      "    (pid, sts) = self._try_wait(0)\n",
      "  File \"/home/ec2-user/anaconda3/envs/pytorch_latest_p36/lib/python3.6/subprocess.py\", line 1424, in _try_wait\n",
      "    (pid, sts) = os.waitpid(self.pid, wait_flags)\n",
      "KeyboardInterrupt\n"
     ]
    }
   ],
   "source": [
    "! cd /home/ec2-user/SageMaker/pytorch_resnet_cifar10_mirror/sm &&  python ddp-launcher.py --gpus 8 \\\n",
    "--data_dir /home/ec2-user/SageMaker/data/ \\\n",
    "--model_dir /home/ec2-user/SageMaker/ \\\n",
    "--num_epochs 10\n"
   ]
  },
  {
   "cell_type": "markdown",
   "id": "9aad65bb",
   "metadata": {},
   "source": [
    "## Multinode multi GPU"
   ]
  },
  {
   "cell_type": "code",
   "execution_count": null,
   "id": "1fa9b700",
   "metadata": {},
   "outputs": [],
   "source": [
    "config = {\n",
    "    'batch_size': 256,\n",
    "    'num_epochs' : 50}"
   ]
  },
  {
   "cell_type": "code",
   "execution_count": null,
   "id": "4d40cbac",
   "metadata": {},
   "outputs": [],
   "source": [
    "bucket = 'mansmane-us-west-2'\n"
   ]
  },
  {
   "cell_type": "code",
   "execution_count": null,
   "id": "ff593655",
   "metadata": {},
   "outputs": [],
   "source": [
    "# Training time of this job \n",
    "token = str(uuid.uuid4())[:10]  # we create a unique token to avoid checkpoint collisions in S3\n",
    "\n",
    "job = PyTorch(\n",
    "    entry_point='ddp-launcher.py',\n",
    "    source_dir='/home/ec2-user/SageMaker/pytorch_resnet_cifar10_mirror/sm',\n",
    "    role=get_execution_role(),\n",
    "    framework_version='1.8.1',\n",
    "    instance_count=1,\n",
    "    instance_type='ml.p3.16xlarge',\n",
    "    base_job_name='resnet-multi-GPU-g5',\n",
    "    py_version='py36',\n",
    "    hyperparameters=config,\n",
    "    checkpoint_s3_uri='s3://{}/{}/checkpoints'.format(bucket, token),  # S3 destination of /opt/ml/checkpoints files\n",
    "    output_path='s3://{}/{}'.format(bucket, token),\n",
    "    code_location='s3://{}/{}/code'.format(bucket, token), # source_dir code will be staged in S3 there\n",
    "    environment={\"SMDEBUG_LOG_LEVEL\":\"off\"},  # reduce verbosity of Debugger\n",
    "    debugger_hook_config=False,  # deactivate debugger to avoid warnings in model artifact\n",
    "    disable_profiler=True,  # keep running resources to a minimum to avoid permission errors\n",
    "    metric_definitions=[\n",
    "        {\"Name\": \"Train_loss\", \"Regex\": \"Training_loss: ([0-9.]+).*$\"},\n",
    "        {\"Name\": \"Learning_rate\", \"Regex\": \"learning rate: ([0-9.]+).*$\"},        \n",
    "        {\"Name\": \"Val_loss\", \"Regex\": \"Val_loss: ([0-9.]+).*$\"},        \n",
    "        {\"Name\": \"Throughput\", \"Regex\": \"Throughput: ([0-9.]+).*$\"},\n",
    "        {\"Name\": \"Val_pixel_acc\", \"Regex\": \"Val_pixel_acc: ([0-9.]+).*$\"}\n",
    "    ],\n",
    "    tags=[{'Key': 'Project', 'Value': 'A2D2_segmentation'}])  # tag the job for experiment tracking"
   ]
  },
  {
   "cell_type": "code",
   "execution_count": null,
   "id": "1ae69057",
   "metadata": {},
   "outputs": [],
   "source": [
    "train_path = 's3://mansmane-us-west-2/cifar10/'"
   ]
  },
  {
   "cell_type": "code",
   "execution_count": null,
   "id": "0f4af2e7",
   "metadata": {},
   "outputs": [],
   "source": [
    "job.fit({'dataset': train_path}, wait=False)"
   ]
  },
  {
   "cell_type": "code",
   "execution_count": null,
   "id": "dd51115e",
   "metadata": {},
   "outputs": [],
   "source": []
  },
  {
   "cell_type": "code",
   "execution_count": null,
   "id": "5251c892",
   "metadata": {},
   "outputs": [],
   "source": [
    "token = str(uuid.uuid4())[:10]  # we create a unique token to avoid checkpoint collisions in S3\n",
    "instance_count = 2\n",
    "\n",
    "job = PyTorch(\n",
    "    entry_point='ddp-launcher.py',\n",
    "    source_dir='/home/ec2-user/SageMaker/pytorch_resnet_cifar10_mirror/sm',\n",
    "    role=get_execution_role(),\n",
    "    framework_version='1.8.1',\n",
    "    instance_count=instance_count,\n",
    "    instance_type='ml.p3.16xlarge',\n",
    "    base_job_name='resnet-multi-GPU-g5-instance-' + str(instance_count),\n",
    "    py_version='py36',\n",
    "    hyperparameters=config,\n",
    "    checkpoint_s3_uri='s3://{}/{}/checkpoints'.format(bucket, token),  # S3 destination of /opt/ml/checkpoints files\n",
    "    output_path='s3://{}/{}'.format(bucket, token),\n",
    "    code_location='s3://{}/{}/code'.format(bucket, token), # source_dir code will be staged in S3 there\n",
    "    environment={\"SMDEBUG_LOG_LEVEL\":\"off\"},  # reduce verbosity of Debugger\n",
    "    debugger_hook_config=False,  # deactivate debugger to avoid warnings in model artifact\n",
    "    disable_profiler=True,  # keep running resources to a minimum to avoid permission errors\n",
    "    metric_definitions=[\n",
    "        {\"Name\": \"Train_loss\", \"Regex\": \"Training_loss: ([0-9.]+).*$\"},\n",
    "        {\"Name\": \"Learning_rate\", \"Regex\": \"learning rate: ([0-9.]+).*$\"},        \n",
    "        {\"Name\": \"Val_loss\", \"Regex\": \"Val_loss: ([0-9.]+).*$\"},        \n",
    "        {\"Name\": \"Throughput\", \"Regex\": \"Throughput: ([0-9.]+).*$\"},\n",
    "        {\"Name\": \"Val_pixel_acc\", \"Regex\": \"Val_pixel_acc: ([0-9.]+).*$\"}\n",
    "    ],\n",
    "    tags=[{'Key': 'Project', 'Value': 'A2D2_segmentation'}])  # tag the job for experiment tracking\n",
    "\n",
    "train_path = 's3://mansmane-us-west-2/cifar10/'\n",
    "job.fit({'dataset': train_path}, wait=False)"
   ]
  },
  {
   "cell_type": "code",
   "execution_count": null,
   "id": "50f840c2",
   "metadata": {},
   "outputs": [],
   "source": []
  },
  {
   "cell_type": "code",
   "execution_count": null,
   "id": "2aca1d7b",
   "metadata": {},
   "outputs": [],
   "source": []
  }
 ],
 "metadata": {
  "kernelspec": {
   "display_name": "conda_pytorch_latest_p36",
   "language": "python",
   "name": "conda_pytorch_latest_p36"
  },
  "language_info": {
   "codemirror_mode": {
    "name": "ipython",
    "version": 3
   },
   "file_extension": ".py",
   "mimetype": "text/x-python",
   "name": "python",
   "nbconvert_exporter": "python",
   "pygments_lexer": "ipython3",
   "version": "3.6.13"
  }
 },
 "nbformat": 4,
 "nbformat_minor": 5
}
