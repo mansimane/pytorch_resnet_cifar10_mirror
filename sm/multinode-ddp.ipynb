{
 "cells": [
  {
   "cell_type": "code",
   "execution_count": 1,
   "id": "4524011b",
   "metadata": {},
   "outputs": [],
   "source": [
    "import json\n",
    "import os\n",
    "import uuid\n",
    "\n",
    "import sagemaker\n",
    "from sagemaker.pytorch import PyTorch\n",
    "from sagemaker import get_execution_role"
   ]
  },
  {
   "cell_type": "code",
   "execution_count": 2,
   "id": "7e8cb868",
   "metadata": {},
   "outputs": [
    {
     "name": "stdout",
     "output_type": "stream",
     "text": [
      "/home/ec2-user/anaconda3/envs/JupyterSystemEnv/bin/python: Error while finding module specification for 'torch.distributed.launch' (ModuleNotFoundError: No module named 'torch')\n"
     ]
    }
   ],
   "source": [
    "!python -m torch.distributed.launch --nproc_per_node=8 --nnodes=1 --node_rank=0 \\\n",
    "        /home/ec2-user/src/pytorch_resnet_cifar10_mirror/trainer.py --use_adascale --num_epochs 200 \\\n",
    "        --batch_size 256 \\\n",
    "        --weight_decay 1e-4"
   ]
  },
  {
   "cell_type": "code",
   "execution_count": null,
   "id": "6a2bb8d3",
   "metadata": {},
   "outputs": [],
   "source": [
    "!  mkdir -p data && cd data && wget -c --quiet https://www.cs.toronto.edu/~kriz/cifar-10-python.tar.gz && tar -xvzf cifar-10-python.tar.gz"
   ]
  },
  {
   "cell_type": "code",
   "execution_count": null,
   "id": "cb0da2d0",
   "metadata": {},
   "outputs": [],
   "source": [
    "! mkdir -p saved_models"
   ]
  },
  {
   "cell_type": "markdown",
   "id": "1dd25e44",
   "metadata": {},
   "source": [
    "## Run locally multiGPU training"
   ]
  },
  {
   "cell_type": "code",
   "execution_count": 2,
   "id": "5bf523eb",
   "metadata": {},
   "outputs": [
    {
     "name": "stdout",
     "output_type": "stream",
     "text": [
      "/home/ec2-user/anaconda3/envs/JupyterSystemEnv/bin/python: Error while finding module specification for 'torch.distributed.launch' (ModuleNotFoundError: No module named 'torch')\n"
     ]
    }
   ],
   "source": [
    "!python -m torch.distributed.launch --nproc_per_node=8 --nnodes=1 --node_rank=0 \\\n",
    "        /home/ec2-user/SageMaker/pytorch_resnet_cifar10_mirror/cifar.py  --num_epochs 200 \\\n",
    "        --batch_size 256 "
   ]
  },
  {
   "cell_type": "code",
   "execution_count": null,
   "id": "0e4f3d42",
   "metadata": {},
   "outputs": [],
   "source": [
    "# Run Sagemaker ddp training"
   ]
  },
  {
   "cell_type": "code",
   "execution_count": null,
   "id": "55766e7c",
   "metadata": {},
   "outputs": [],
   "source": [
    "! pwd"
   ]
  },
  {
   "cell_type": "code",
   "execution_count": null,
   "id": "352f5a5e",
   "metadata": {},
   "outputs": [],
   "source": [
    "! ls /home/ec2-user/SageMaker/pytorch_resnet_cifar10_mirror/sm\n"
   ]
  },
  {
   "cell_type": "code",
   "execution_count": 2,
   "id": "10024557",
   "metadata": {},
   "outputs": [
    {
     "name": "stdout",
     "output_type": "stream",
     "text": [
      "*****************************************\n",
      "Setting OMP_NUM_THREADS environment variable for each process to be 1 in default, to avoid your system being overloaded, please further tune the variable for optimal performance in your application as needed. \n",
      "*****************************************\n",
      "NCCL version 2.4.8+cuda10.2\n",
      " ### data_dir  /home/ec2-user/SageMaker/data/\n",
      " ### data_dir  /home/ec2-user/SageMaker/data/\n",
      " ### data_dir  /home/ec2-user/SageMaker/data/\n",
      " ### data_dir  /home/ec2-user/SageMaker/data/\n",
      " ### data_dir  /home/ec2-user/SageMaker/data/\n",
      " ### data_dir  /home/ec2-user/SageMaker/data/\n",
      " ### data_dir  /home/ec2-user/SageMaker/data/\n",
      " ### data_dir  /home/ec2-user/SageMaker/data/\n",
      "Local Rank: 4, Epoch: 0, Training ...\n",
      "Local Rank: 5, Epoch: 0, Training ...\n",
      "Local Rank: 1, Epoch: 0, Training ...\n",
      "Local Rank: 6, Epoch: 0, Training ...\n",
      "Local Rank: 0, Epoch: 0, Training ...\n",
      "Local Rank: 3, Epoch: 0, Training ...\n",
      "Local Rank: 2, Epoch: 0, Training ...\n",
      "Local Rank: 7, Epoch: 0, Training ...\n",
      "---------------------------------------------------------------------------\n",
      "Epoch: 0, Accuracy: 0.0\n",
      "---------------------------------------------------------------------------\n",
      "Local Rank: 2, Epoch: 1, Training ...\n",
      "Local Rank: 0, Epoch: 1, Training ...\n",
      "Local Rank: 3, Epoch: 1, Training ...\n",
      "Local Rank: 7, Epoch: 1, Training ...\n",
      "Local Rank: 5, Epoch: 1, Training ...\n",
      "Local Rank: 4, Epoch: 1, Training ...\n",
      "Local Rank: 1, Epoch: 1, Training ...\n",
      "Local Rank: 6, Epoch: 1, Training ...\n",
      "Local Rank: 5, Epoch: 2, Training ...\n",
      "Local Rank: 7, Epoch: 2, Training ...\n",
      "Local Rank: 2, Epoch: 2, Training ...\n",
      "Local Rank: 4, Epoch: 2, Training ...\n",
      "Local Rank: 0, Epoch: 2, Training ...\n",
      "Local Rank: 3, Epoch: 2, Training ...\n",
      "Local Rank: 6, Epoch: 2, Training ...\n",
      "Local Rank: 1, Epoch: 2, Training ...\n",
      "Local Rank: 7, Epoch: 3, Training ...\n",
      "Local Rank: 4, Epoch: 3, Training ...\n",
      "Local Rank: 5, Epoch: 3, Training ...\n",
      "Local Rank: 2, Epoch: 3, Training ...\n",
      "Local Rank: 1, Epoch: 3, Training ...\n",
      "Local Rank: 0, Epoch: 3, Training ...\n",
      "Local Rank: 3, Epoch: 3, Training ...\n",
      "Local Rank: 6, Epoch: 3, Training ...\n",
      "Local Rank: 3, Epoch: 4, Training ...\n",
      "Local Rank: 5, Epoch: 4, Training ...\n",
      "Local Rank: 1, Epoch: 4, Training ...\n",
      "Local Rank: 2, Epoch: 4, Training ...\n",
      "Local Rank: 6, Epoch: 4, Training ...\n",
      "Local Rank: 7, Epoch: 4, Training ...\n",
      "Local Rank: 4, Epoch: 4, Training ...\n",
      "Local Rank: 0, Epoch: 4, Training ...\n",
      "^C\n",
      "Traceback (most recent call last):\n",
      "  File \"ddp-launcher.py\", line 118, in <module>\n",
      "    '--data_dir', args.data_dir \n",
      "  File \"/home/ec2-user/anaconda3/envs/amazonei_pytorch_latest_p36/lib/python3.6/subprocess.py\", line 289, in call\n",
      "    return p.wait(timeout=timeout)\n",
      "  File \"/home/ec2-user/anaconda3/envs/amazonei_pytorch_latest_p36/lib/python3.6/subprocess.py\", line 1477, in wait\n",
      "    (pid, sts) = self._try_wait(0)\n",
      "  File \"/home/ec2-user/anaconda3/envs/amazonei_pytorch_latest_p36/lib/python3.6/subprocess.py\", line 1424, in _try_wait\n",
      "    (pid, sts) = os.waitpid(self.pid, wait_flags)\n",
      "KeyboardInterrupt\n"
     ]
    }
   ],
   "source": [
    "! cd /home/ec2-user/SageMaker/pytorch_resnet_cifar10_mirror/sm &&  python ddp-launcher.py --gpus 8 \\\n",
    "--data_dir /home/ec2-user/SageMaker/data/ \\\n",
    "--model_dir /home/ec2-user/SageMaker/ \\\n",
    "--num_epochs 100\n",
    "\n",
    "\n"
   ]
  },
  {
   "cell_type": "markdown",
   "id": "a5881b8b",
   "metadata": {},
   "source": [
    "## Multinode multi GPU"
   ]
  },
  {
   "cell_type": "code",
   "execution_count": 3,
   "id": "59e9d2ff",
   "metadata": {},
   "outputs": [],
   "source": [
    "config = {\n",
    "    'batch_size': 256,\n",
    "    'num_epochs' : 50}"
   ]
  },
  {
   "cell_type": "code",
   "execution_count": 4,
   "id": "4255d80a",
   "metadata": {},
   "outputs": [],
   "source": [
    "bucket = 'mansmane-us-west-2'\n"
   ]
  },
  {
   "cell_type": "code",
   "execution_count": 8,
   "id": "14fe6295",
   "metadata": {},
   "outputs": [],
   "source": [
    "# Training time of this job \n",
    "token = str(uuid.uuid4())[:10]  # we create a unique token to avoid checkpoint collisions in S3\n",
    "\n",
    "job = PyTorch(\n",
    "    entry_point='ddp-launcher.py',\n",
    "    source_dir='/home/ec2-user/SageMaker/pytorch_resnet_cifar10_mirror/sm',\n",
    "    role=get_execution_role(),\n",
    "    framework_version='1.8.1',\n",
    "    instance_count=1,\n",
    "    instance_type='ml.p3.16xlarge',\n",
    "    base_job_name='resnet-multi-GPU-g5',\n",
    "    py_version='py36',\n",
    "    hyperparameters=config,\n",
    "    checkpoint_s3_uri='s3://{}/{}/checkpoints'.format(bucket, token),  # S3 destination of /opt/ml/checkpoints files\n",
    "    output_path='s3://{}/{}'.format(bucket, token),\n",
    "    code_location='s3://{}/{}/code'.format(bucket, token), # source_dir code will be staged in S3 there\n",
    "    environment={\"SMDEBUG_LOG_LEVEL\":\"off\"},  # reduce verbosity of Debugger\n",
    "    debugger_hook_config=False,  # deactivate debugger to avoid warnings in model artifact\n",
    "    disable_profiler=True,  # keep running resources to a minimum to avoid permission errors\n",
    "    metric_definitions=[\n",
    "        {\"Name\": \"Train_loss\", \"Regex\": \"Training_loss: ([0-9.]+).*$\"},\n",
    "        {\"Name\": \"Learning_rate\", \"Regex\": \"learning rate: ([0-9.]+).*$\"},        \n",
    "        {\"Name\": \"Val_loss\", \"Regex\": \"Val_loss: ([0-9.]+).*$\"},        \n",
    "        {\"Name\": \"Throughput\", \"Regex\": \"Throughput: ([0-9.]+).*$\"},\n",
    "        {\"Name\": \"Val_pixel_acc\", \"Regex\": \"Val_pixel_acc: ([0-9.]+).*$\"}\n",
    "    ],\n",
    "    tags=[{'Key': 'Project', 'Value': 'A2D2_segmentation'}])  # tag the job for experiment tracking"
   ]
  },
  {
   "cell_type": "code",
   "execution_count": 9,
   "id": "824304ae",
   "metadata": {},
   "outputs": [],
   "source": [
    "train_path = 's3://mansmane-us-west-2/cifar10/'"
   ]
  },
  {
   "cell_type": "code",
   "execution_count": 10,
   "id": "6b2fe823",
   "metadata": {},
   "outputs": [],
   "source": [
    "job.fit({'dataset': train_path}, wait=False)"
   ]
  },
  {
   "cell_type": "code",
   "execution_count": null,
   "id": "b33f727b",
   "metadata": {},
   "outputs": [],
   "source": []
  },
  {
   "cell_type": "code",
   "execution_count": 12,
   "id": "bef5aea0",
   "metadata": {},
   "outputs": [],
   "source": [
    "token = str(uuid.uuid4())[:10]  # we create a unique token to avoid checkpoint collisions in S3\n",
    "instance_count = 2\n",
    "\n",
    "job = PyTorch(\n",
    "    entry_point='ddp-launcher.py',\n",
    "    source_dir='/home/ec2-user/SageMaker/pytorch_resnet_cifar10_mirror/sm',\n",
    "    role=get_execution_role(),\n",
    "    framework_version='1.8.1',\n",
    "    instance_count=instance_count,\n",
    "    instance_type='ml.p3.16xlarge',\n",
    "    base_job_name='resnet-multi-GPU-g5-instance-' + str(instance_count),\n",
    "    py_version='py36',\n",
    "    hyperparameters=config,\n",
    "    checkpoint_s3_uri='s3://{}/{}/checkpoints'.format(bucket, token),  # S3 destination of /opt/ml/checkpoints files\n",
    "    output_path='s3://{}/{}'.format(bucket, token),\n",
    "    code_location='s3://{}/{}/code'.format(bucket, token), # source_dir code will be staged in S3 there\n",
    "    environment={\"SMDEBUG_LOG_LEVEL\":\"off\"},  # reduce verbosity of Debugger\n",
    "    debugger_hook_config=False,  # deactivate debugger to avoid warnings in model artifact\n",
    "    disable_profiler=True,  # keep running resources to a minimum to avoid permission errors\n",
    "    metric_definitions=[\n",
    "        {\"Name\": \"Train_loss\", \"Regex\": \"Training_loss: ([0-9.]+).*$\"},\n",
    "        {\"Name\": \"Learning_rate\", \"Regex\": \"learning rate: ([0-9.]+).*$\"},        \n",
    "        {\"Name\": \"Val_loss\", \"Regex\": \"Val_loss: ([0-9.]+).*$\"},        \n",
    "        {\"Name\": \"Throughput\", \"Regex\": \"Throughput: ([0-9.]+).*$\"},\n",
    "        {\"Name\": \"Val_pixel_acc\", \"Regex\": \"Val_pixel_acc: ([0-9.]+).*$\"}\n",
    "    ],\n",
    "    tags=[{'Key': 'Project', 'Value': 'A2D2_segmentation'}])  # tag the job for experiment tracking\n",
    "\n",
    "train_path = 's3://mansmane-us-west-2/cifar10/'\n",
    "job.fit({'dataset': train_path}, wait=False)"
   ]
  },
  {
   "cell_type": "code",
   "execution_count": null,
   "id": "76c64322",
   "metadata": {},
   "outputs": [
    {
     "name": "stdout",
     "output_type": "stream",
     "text": [
      "Collecting fairscale\n",
      "  Downloading fairscale-0.4.5.tar.gz (240 kB)\n",
      "     |████████████████████████████████| 240 kB 6.9 MB/s            \n",
      "\u001b[?25h  Installing build dependencies ... \u001b[?25ldone\n",
      "\u001b[?25h  Getting requirements to build wheel ... \u001b[?25ldone\n",
      "\u001b[?25h  Installing backend dependencies ... \u001b[?25ldone\n",
      "\u001b[?25h  Preparing metadata (pyproject.toml) ... \u001b[?25ldone\n",
      "\u001b[?25hCollecting torch>=1.8.0\n",
      "  Downloading torch-1.10.2-cp36-cp36m-manylinux1_x86_64.whl (881.9 MB)\n",
      "     |████████████████████████████▎   | 777.8 MB 95.2 MB/s eta 0:00:02"
     ]
    },
    {
     "name": "stderr",
     "output_type": "stream",
     "text": [
      "IOPub data rate exceeded.\n",
      "The notebook server will temporarily stop sending output\n",
      "to the client in order to avoid crashing it.\n",
      "To change this limit, set the config variable\n",
      "`--NotebookApp.iopub_data_rate_limit`.\n",
      "\n",
      "Current values:\n",
      "NotebookApp.iopub_data_rate_limit=1000000.0 (bytes/sec)\n",
      "NotebookApp.rate_limit_window=3.0 (secs)\n",
      "\n"
     ]
    },
    {
     "name": "stdout",
     "output_type": "stream",
     "text": [
      "     |████████████████████████████████| 881.9 MB 7.8 kB/s             \n",
      "\u001b[?25hRequirement already satisfied: dataclasses in /home/ec2-user/anaconda3/envs/amazonei_pytorch_latest_p36/lib/python3.6/site-packages (from torch>=1.8.0->fairscale) (0.8)\n",
      "Requirement already satisfied: typing-extensions in /home/ec2-user/anaconda3/envs/amazonei_pytorch_latest_p36/lib/python3.6/site-packages (from torch>=1.8.0->fairscale) (3.10.0.0)\n",
      "Building wheels for collected packages: fairscale\n",
      "  Building wheel for fairscale (pyproject.toml) ... \u001b[?25ldone\n",
      "\u001b[?25h  Created wheel for fairscale: filename=fairscale-0.4.5-py3-none-any.whl size=299652 sha256=fab78c7163c9400e55e41affb8d2d419028ed6d79cc046c64972dcef3d15be05\n",
      "  Stored in directory: /home/ec2-user/.cache/pip/wheels/77/41/f5/d42db16aa9cfafa47a9c19c7fd5d9b9e8d2dc523fa9ff94344\n",
      "Successfully built fairscale\n",
      "Installing collected packages: torch, fairscale\n",
      "  Attempting uninstall: torch\n",
      "    Found existing installation: torch 1.5.1\n",
      "    Uninstalling torch-1.5.1:\n",
      "      Successfully uninstalled torch-1.5.1\n"
     ]
    }
   ],
   "source": [
    "! pip install fairscale"
   ]
  },
  {
   "cell_type": "code",
   "execution_count": null,
   "id": "aa961936",
   "metadata": {},
   "outputs": [],
   "source": []
  }
 ],
 "metadata": {
  "kernelspec": {
   "display_name": "conda_amazonei_pytorch_latest_p36",
   "language": "python",
   "name": "conda_amazonei_pytorch_latest_p36"
  },
  "language_info": {
   "codemirror_mode": {
    "name": "ipython",
    "version": 3
   },
   "file_extension": ".py",
   "mimetype": "text/x-python",
   "name": "python",
   "nbconvert_exporter": "python",
   "pygments_lexer": "ipython3",
   "version": "3.6.13"
  }
 },
 "nbformat": 4,
 "nbformat_minor": 5
}
